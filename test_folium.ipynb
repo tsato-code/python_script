{
 "cells": [
  {
   "cell_type": "code",
   "execution_count": 1,
   "metadata": {
    "collapsed": false
   },
   "outputs": [
    {
     "data": {
      "text/html": [
       "<div>\n",
       "<table border=\"1\" class=\"dataframe\">\n",
       "  <thead>\n",
       "    <tr style=\"text-align: right;\">\n",
       "      <th></th>\n",
       "      <th>住所</th>\n",
       "      <th>緯度</th>\n",
       "      <th>経度</th>\n",
       "    </tr>\n",
       "  </thead>\n",
       "  <tbody>\n",
       "    <tr>\n",
       "      <th>0</th>\n",
       "      <td>神奈川県横浜市鶴見区栄町通２−２２−１</td>\n",
       "      <td>35.508956</td>\n",
       "      <td>139.691219</td>\n",
       "    </tr>\n",
       "    <tr>\n",
       "      <th>1</th>\n",
       "      <td>神奈川県横浜市鶴見区岸谷３−２０</td>\n",
       "      <td>35.499916</td>\n",
       "      <td>139.665789</td>\n",
       "    </tr>\n",
       "    <tr>\n",
       "      <th>2</th>\n",
       "      <td>神奈川県横浜市鶴見区佃野長１２６０−４</td>\n",
       "      <td>35.514761</td>\n",
       "      <td>139.673038</td>\n",
       "    </tr>\n",
       "    <tr>\n",
       "      <th>3</th>\n",
       "      <td>神奈川県横浜市鶴見区寛政町２８</td>\n",
       "      <td>35.501599</td>\n",
       "      <td>139.701619</td>\n",
       "    </tr>\n",
       "    <tr>\n",
       "      <th>4</th>\n",
       "      <td>神奈川県横浜市鶴見区朝日町１−６１−１</td>\n",
       "      <td>35.502843</td>\n",
       "      <td>139.695458</td>\n",
       "    </tr>\n",
       "  </tbody>\n",
       "</table>\n",
       "</div>"
      ],
      "text/plain": [
       "                    住所         緯度          経度\n",
       "0  神奈川県横浜市鶴見区栄町通２−２２−１  35.508956  139.691219\n",
       "1     神奈川県横浜市鶴見区岸谷３−２０  35.499916  139.665789\n",
       "2  神奈川県横浜市鶴見区佃野長１２６０−４  35.514761  139.673038\n",
       "3      神奈川県横浜市鶴見区寛政町２８  35.501599  139.701619\n",
       "4  神奈川県横浜市鶴見区朝日町１−６１−１  35.502843  139.695458"
      ]
     },
     "execution_count": 1,
     "metadata": {},
     "output_type": "execute_result"
    }
   ],
   "source": [
    "import folium\n",
    "import pandas as pd\n",
    "\n",
    "# 横浜市公衆トイレ位置データ読込み\n",
    "in_file = 'public_lavatory_20070401.txt'\n",
    "df = pd.read_csv(in_file, encoding='utf-8', engine='python', header=None, sep='\\t', usecols=[1, 2, 3])\n",
    "df = df.rename(columns={1: '住所', 2: '緯度', 3: '経度'})\n",
    "df.head()"
   ]
  },
  {
   "cell_type": "code",
   "execution_count": 2,
   "metadata": {
    "collapsed": false
   },
   "outputs": [],
   "source": [
    "yokohama = [35.465514, 139.621753]\n",
    "m = folium.Map(\n",
    "    location=yokohama,\n",
    "    tiles='OpenStreetMap',\n",
    "    zoom_start=14\n",
    ")\n",
    "for i, row in df.iterrows():\n",
    "    pop = row[['住所']][0]\n",
    "    latlon = row[['緯度', '経度']]\n",
    "    folium.CircleMarker(latlon,\n",
    "        radius=8,\n",
    "        popup=pop,\n",
    "        color='#3186cc',\n",
    "        fill_color='#3186cc').add_to(m)\n",
    "m.save('map01.html')"
   ]
  }
 ],
 "metadata": {
  "kernelspec": {
   "display_name": "Python 3",
   "language": "python",
   "name": "python3"
  },
  "language_info": {
   "codemirror_mode": {
    "name": "ipython",
    "version": 3
   },
   "file_extension": ".py",
   "mimetype": "text/x-python",
   "name": "python",
   "nbconvert_exporter": "python",
   "pygments_lexer": "ipython3",
   "version": "3.6.4"
  }
 },
 "nbformat": 4,
 "nbformat_minor": 2
}
