{
 "cells": [
  {
   "cell_type": "code",
   "execution_count": 7,
   "metadata": {},
   "outputs": [
    {
     "data": {
      "image/png": "[encoded data removed]",
      "text/plain": [
       "<Figure size 432x288 with 1 Axes>"
      ]
     },
     "metadata": {
      "needs_background": "light"
     },
     "output_type": "display_data"
    }
   ],
   "source": [
    "import matplotlib. pyplot as plt\n",
    "fig = plt.figure()\n",
    "ax = fig.add_subplot(111, aspect=\"equal\")\n",
    "W,H = 15,8\n",
    "ax.set_xlim ([0,W])\n",
    "ax.set_ylim ([0,H])\n",
    "x,y,w,h = 1,2,10,5\n",
    "rect = plt.Rectangle((x,y),w,h,fc=\"burlywood\",ec=\"black\")\n",
    "ax.add_patch(rect)\n",
    "center,r = (6,3),3\n",
    "circ = plt.Circle(center,r,fc=\"lightgray\",ec=\"black\")\n",
    "ax.add_patch( circ)\n",
    "plt.show()\n",
    "# fig.savefig (\"picture.eps\")"
   ]
  },
  {
   "cell_type": "code",
   "execution_count": 14,
   "metadata": {},
   "outputs": [
    {
     "name": "stdout",
     "output_type": "stream",
     "text": [
      "[(0, 0)]\n",
      "[(0, 0), (0, 4), (9, 0)]\n",
      "[(0, 0), (13, 4), (9, 10), (0, 4), (9, 0), (0, 10), (13, 0)]\n",
      "[(0, 0), (13, 4), (9, 10), (17, 4), (9, 9), (17, 10), (13, 9), (0, 4), (9, 0), (0, 10), (13, 0), (0, 9), (17, 0)]\n",
      "[(0, 0), (13, 4), (9, 10), (17, 4), (9, 9), (17, 10), (13, 9), (7, 4), (9, 13), (7, 10), (13, 13), (7, 9), (17, 13), (0, 4), (9, 0), (0, 10), (13, 0), (0, 9), (17, 0), (0, 13), (7, 0)]\n"
     ]
    }
   ],
   "source": [
    "def bl_candidates(i,x,y,w,h):\n",
    "    cand=[(0,0)]\n",
    "    for j in range(i):\n",
    "        for k in range(j):\n",
    "            cand += [(x[j]+w[j], y[k]+h[k])]\n",
    "            cand += [(x[k]+w[k], y[j]+h[j])]\n",
    "    for j in range(i):\n",
    "        cand += [(0, y[j]+h[j])]\n",
    "        cand += [(x[j]+w[j], 0)]\n",
    "    print(cand)\n",
    "    return cand\n",
    "\n",
    "\n",
    "def is_feas(i,p,x,y,w,h,W):\n",
    "    if p[0] < 0 or W < p[0]+w[i]:\n",
    "        return False\n",
    "    for j in range(i):\n",
    "        if max(p[0],x[j]) < min(p[0]+w[i],x[j]+w[j]):\n",
    "            if max(p[1],y[j]) < min(p[1]+h[i],y[j]+h[j]):\n",
    "                return False\n",
    "    return True\n",
    "\n",
    "\n",
    "def BL_method(w,h,W):\n",
    "    x,y=[],[]\n",
    "    for i in range(len(w)):\n",
    "        blfp=[]\n",
    "        cand = bl_candidates(i,x,y,w,h)\n",
    "        for p in cand:\n",
    "            if is_feas(i,p,x,y,w,h,W):\n",
    "                blfp += [p]\n",
    "        min_p = min(blfp, key=lambda v:(v[1],v[0]))\n",
    "        x += [min_p[0]]\n",
    "        y += [min_p[1]]\n",
    "    return x,y\n",
    "\n",
    "w=[9, 4, 4, 7, 5]\n",
    "h=[4, 10, 9, 9, 10]\n",
    "W=20\n",
    "x,y=BL_method(w,h,W)"
   ]
  },
  {
   "cell_type": "code",
   "execution_count": 11,
   "metadata": {},
   "outputs": [
    {
     "data": {
      "text/plain": [
       "[0, 9, 13, 0, 13]"
      ]
     },
     "execution_count": 11,
     "metadata": {},
     "output_type": "execute_result"
    }
   ],
   "source": [
    "x"
   ]
  },
  {
   "cell_type": "code",
   "execution_count": 12,
   "metadata": {},
   "outputs": [
    {
     "data": {
      "text/plain": [
       "[0, 0, 0, 4, 9]"
      ]
     },
     "execution_count": 12,
     "metadata": {},
     "output_type": "execute_result"
    }
   ],
   "source": [
    "y"
   ]
  },
  {
   "cell_type": "code",
   "execution_count": null,
   "metadata": {},
   "outputs": [],
   "source": []
  }
 ],
 "metadata": {
  "kernelspec": {
   "display_name": "Python 3",
   "language": "python",
   "name": "python3"
  },
  "language_info": {
   "codemirror_mode": {
    "name": "ipython",
    "version": 3
   },
   "file_extension": ".py",
   "mimetype": "text/x-python",
   "name": "python",
   "nbconvert_exporter": "python",
   "pygments_lexer": "ipython3",
   "version": "3.6.7"
  }
 },
 "nbformat": 4,
 "nbformat_minor": 2
}
