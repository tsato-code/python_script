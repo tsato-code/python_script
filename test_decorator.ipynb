{
 "cells": [
  {
   "cell_type": "code",
   "execution_count": 1,
   "metadata": {},
   "outputs": [
    {
     "name": "stdout",
     "output_type": "stream",
     "text": [
      "call: hoge\n"
     ]
    },
    {
     "data": {
      "text/plain": [
       "'fuga!!'"
      ]
     },
     "execution_count": 1,
     "metadata": {},
     "output_type": "execute_result"
    }
   ],
   "source": [
    "# 関数の機能追加と変更\n",
    "def deco(func):\n",
    "    # 'hoge' を返す関数を書き換えて 'fuga' を返すように変更\n",
    "    def inner():\n",
    "        # 関数名を出力する機能を追加\n",
    "        print('call: {}'.format(func.__name__))\n",
    "        return 'fuga!!'\n",
    "    return inner\n",
    "\n",
    "@deco\n",
    "def hoge():\n",
    "    return 'hoge'\n",
    "\n",
    "hoge()"
   ]
  },
  {
   "cell_type": "code",
   "execution_count": 2,
   "metadata": {},
   "outputs": [
    {
     "name": "stdout",
     "output_type": "stream",
     "text": [
      "hoge\n",
      "process time: 0.00015616416931152344[sec]\n"
     ]
    }
   ],
   "source": [
    "# 関数の実行時間を出力する機能を追加\n",
    "def deco(func):\n",
    "    import functools\n",
    "    import time\n",
    "    @functools.wraps(func)\n",
    "    def wrapper(*args,**kwargs):\n",
    "        start = time.time()\n",
    "        func(*args,**kwargs)\n",
    "        elapsed = time.time() - start\n",
    "        print('process time: {}[sec]'.format(elapsed))\n",
    "    return wrapper\n",
    "\n",
    "@deco\n",
    "def hoge():\n",
    "    print('hoge')\n",
    "\n",
    "hoge()"
   ]
  }
 ],
 "metadata": {
  "kernelspec": {
   "display_name": "Python 3",
   "language": "python",
   "name": "python3"
  },
  "language_info": {
   "codemirror_mode": {
    "name": "ipython",
    "version": 3
   },
   "file_extension": ".py",
   "mimetype": "text/x-python",
   "name": "python",
   "nbconvert_exporter": "python",
   "pygments_lexer": "ipython3",
   "version": "3.6.1"
  }
 },
 "nbformat": 4,
 "nbformat_minor": 2
}
