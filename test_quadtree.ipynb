{
 "cells": [
  {
   "cell_type": "code",
   "execution_count": 1,
   "metadata": {
    "collapsed": true
   },
   "outputs": [],
   "source": [
    "class Point:\n",
    "    ## Point クラスのコンストラクタ\n",
    "    # @brief 平面座標の点を生成\n",
    "    # @param x x座標\n",
    "    # @param y y座標\n",
    "    def __init__(self, x, y, data=None):\n",
    "        self.x = x\n",
    "        self.y = y\n",
    "        self.data = data\n",
    "        \n",
    "    ## repr 関数\n",
    "    # @brief オブジェクト自身の返り値指定\n",
    "    # @return 座標 (x, y)\n",
    "    def __repr__(self):\n",
    "        return \"<Point {}, {}>\".format(self.x, self.y)"
   ]
  },
  {
   "cell_type": "code",
   "execution_count": 2,
   "metadata": {
    "collapsed": true
   },
   "outputs": [],
   "source": [
    "class Rectangle:\n",
    "    ## Rectangle クラスのコンストラクタ\n",
    "    # @brief 平面座標の点 (x, y) を中心として水平方向に ±w 垂直方向に ±h の四角形を生成\n",
    "    def __init__(self, x, y, w, h):\n",
    "        self.x = x\n",
    "        self.y = y\n",
    "        self.w = w\n",
    "        self.h = h\n",
    "    \n",
    "    ##  repr 関数\n",
    "    # @brief オブジェクト自身の返り値指定\n",
    "    # @return 中心座標と幅と高さ　(x, y, w, h)\n",
    "    def __repr__(self):\n",
    "        return \"<Rectangle {}, {}, {}, {}>\".format(self.x, self.y, self.w, self.h)\n",
    "\n",
    "\n",
    "    ## 重なりを判定\n",
    "    # @brief 点との重なりを判定する関数\n",
    "    # @param p 点\n",
    "    # @return True/False\n",
    "    def contains(self, p):\n",
    "        return p.x >= self.x - self.w and p.x <= self.x + self.w and p.y >= self.y - self.h and p.y <= self.y + self.h\n",
    "\n",
    "    ## 交差判定\n",
    "    # @brief 四角形との重なりを判定\n",
    "    # @param r 　四角形\n",
    "    # @return True/False\n",
    "    def intersects(self, r):\n",
    "        return not (self.x - r.w > self.x + self.w or r.x + r.w < self.x - self.w or r.y - r.h > self.y + self.h or r.y + r.h < self.y - self.h)"
   ]
  },
  {
   "cell_type": "code",
   "execution_count": 3,
   "metadata": {
    "collapsed": true
   },
   "outputs": [],
   "source": [
    "class QuadTree:\n",
    "    ## コンストラクタ\n",
    "    # @berief 四分木クラスのコンストラクタ\n",
    "    # @param boundary 境界四角形\n",
    "    # @param capacity 四分木の頂点容量の上限\n",
    "    def __init__(self, boundary, capacity):\n",
    "        if not boundary:\n",
    "            raise TypeError('boundary is null or undefined')\n",
    "        \n",
    "        if not isinstance(boundary, Rectangle):\n",
    "            raise TypeError('boundary should be a Rectangle')\n",
    "        \n",
    "        if not isinstance(capacity, int):\n",
    "            raise TypeError('capacity should be a number but is a {}'.format(type(capacity)))\n",
    "        \n",
    "        if capacity < 0:\n",
    "            raise RangeError('capacity must be greater than 0')\n",
    "        \n",
    "        self.boundary = boundary\n",
    "        self.capacity = capacity\n",
    "        self.points = []\n",
    "        self.divided = False\n",
    "        \n",
    "    ## 分割操作\n",
    "    # @brief 四分木の境界領域を4分割する関数\n",
    "    def subdivide(self):\n",
    "        x = self.boundary.x\n",
    "        y = self.boundary.y\n",
    "        w = self.boundary.w / 2\n",
    "        h = self.boundary.h / 2\n",
    "\n",
    "        ne = Rectangle(x + w, y - h, w, h)\n",
    "        self.northeast = QuadTree(ne, self.capacity)\n",
    "        nw = Rectangle(x - w, y - h, w, h)\n",
    "        self.northwest = QuadTree(nw, self.capacity)\n",
    "        se = Rectangle(x + w, y + h, w, h)\n",
    "        self.southeast = QuadTree(se, self.capacity)\n",
    "        sw = Rectangle(x - w, y + h, w, h)\n",
    "        self.southwest = QuadTree(sw, self.capacity)\n",
    "\n",
    "        self.divided = True\n",
    "    \n",
    "    \n",
    "    # 挿入操作\n",
    "    # @brief 四分木に点を挿入する関数\n",
    "    # @param p 点\n",
    "    # @return 挿入に成功したとき True\n",
    "    def insert(self, p):\n",
    "        if not self.boundary.contains(p):\n",
    "            return False\n",
    "\n",
    "        if len(self.points) < self.capacity:\n",
    "            self.points.append(p)\n",
    "            return True\n",
    "\n",
    "        if not self.divided:\n",
    "            self.subdivide()\n",
    "\n",
    "        return self.northeast.insert(p) or self.northwest.insert(p) or self.southeast.insert(p) or self.southwest.insert(p)\n",
    "    \n",
    "    \n",
    "    ## クエリ操作\n",
    "    # @brief 指定した領域と重なる点を返す関数\n",
    "    # @param r 四角形領域\n",
    "    # @param found \n",
    "    def query(self, r, found=None):\n",
    "        if found is None:\n",
    "            found = []\n",
    "\n",
    "        if not r.intersects(self.boundary):\n",
    "            return found\n",
    "\n",
    "        for p in self.points:\n",
    "            if r.contains(p):\n",
    "                found.append(p)\n",
    "        if self.divided:\n",
    "            self.northwest.query(r, found)\n",
    "            self.northeast.query(r, found)\n",
    "            self.southwest.query(r, found)\n",
    "            self.southeast.query(r, found)\n",
    "\n",
    "        return found"
   ]
  },
  {
   "cell_type": "code",
   "execution_count": 4,
   "metadata": {},
   "outputs": [],
   "source": [
    "import numpy as np\n",
    "\n",
    "# データ生成\n",
    "X = np.random.random((100, 2)) ** 0.5\n",
    "\n",
    "# 四分木の作成、点の挿入\n",
    "boundary = Rectangle(0.5, 0.5, 0.5, 0.5)\n",
    "qtree = QuadTree(boundary, 4);\n",
    "_ = [qtree.insert(Point(*x)) for x in X]"
   ]
  },
  {
   "cell_type": "code",
   "execution_count": 5,
   "metadata": {},
   "outputs": [
    {
     "name": "stdout",
     "output_type": "stream",
     "text": [
      "True\n",
      "<Rectangle 0.75, 0.25, 0.25, 0.25>\n",
      "<Rectangle 0.25, 0.25, 0.25, 0.25>\n",
      "<Rectangle 0.75, 0.75, 0.25, 0.25>\n",
      "<Rectangle 0.25, 0.75, 0.25, 0.25>\n"
     ]
    }
   ],
   "source": [
    "# 四分木の確認\n",
    "print(qtree.divided)\n",
    "print(qtree.northeast.boundary)\n",
    "print(qtree.northwest.boundary)\n",
    "print(qtree.southeast.boundary)\n",
    "print(qtree.southwest.boundary)"
   ]
  },
  {
   "cell_type": "code",
   "execution_count": 6,
   "metadata": {},
   "outputs": [
    {
     "name": "stdout",
     "output_type": "stream",
     "text": [
      "-0.1 -0.1 0.5 0.5\n"
     ]
    },
    {
     "data": {
      "text/plain": [
       "[<Point 0.18968667566247957, 0.20843793331055707>,\n",
       " <Point 0.22052732802523783, 0.38770805077685744>,\n",
       " <Point 0.08741929482719497, 0.19649106665763874>,\n",
       " <Point 0.15473136555499228, 0.2761870291652513>]"
      ]
     },
     "execution_count": 6,
     "metadata": {},
     "output_type": "execute_result"
    }
   ],
   "source": [
    "# クエリの発行\n",
    "r = Rectangle(-0.1, -0.1, 0.5, 0.5)\n",
    "print(r.x, r.y, r.w, r.h)\n",
    "qtree.query(r)"
   ]
  },
  {
   "cell_type": "code",
   "execution_count": 7,
   "metadata": {
    "scrolled": false
   },
   "outputs": [
    {
     "data": {
      "image/png": "[encoded data removed]",
      "text/plain": [
       "<matplotlib.figure.Figure at 0x10bcd99e8>"
      ]
     },
     "metadata": {},
     "output_type": "display_data"
    }
   ],
   "source": [
    "import matplotlib.pyplot as plt\n",
    "from matplotlib import font_manager\n",
    "from numpy.random import randn\n",
    "\n",
    "import matplotlib.patches as patches\n",
    "\n",
    "# 新規のウィンドウを描画\n",
    "fig = plt.figure(figsize=(10,10))\n",
    "\n",
    "# サブプロットを追加\n",
    "ax_list = [fig.add_subplot(2,2,i+1, xticks=[], yticks=[]) for i in range(4)]\n",
    "\n",
    "# 散布図\n",
    "[ax.scatter(X[:, 0], X[:, 1]) for ax in ax_list]\n",
    "\n",
    "# 描画範囲指定\n",
    "[ax.set_xlim([0, 1]) for ax in ax_list]\n",
    "[ax.set_ylim([0, 1]) for ax in ax_list]\n",
    "\n",
    "# 四分木の描画関数\n",
    "def plot_qtree(qt, ax, depth=float('inf')):\n",
    "    x = qt.boundary.x\n",
    "    y = qt.boundary.y\n",
    "    w = qt.boundary.w\n",
    "    h = qt.boundary.h\n",
    "    rect = plt.Rectangle(\n",
    "        xy=(x-w, y-h), \n",
    "        width=w*2, \n",
    "        height=h*2, \n",
    "        ec='#000000', fill=False)\n",
    "    ax.add_patch(rect)\n",
    "    if qt.divided and depth>0:\n",
    "        depth -= 1\n",
    "        plot_qtree(qt.northeast, ax, depth)\n",
    "        plot_qtree(qt.northwest, ax, depth)\n",
    "        plot_qtree(qt.southeast, ax, depth)\n",
    "        plot_qtree(qt.southwest, ax, depth)\n",
    "\n",
    "#  四分木の描画\n",
    "[plot_qtree(qtree, ax_list[i], i+1) for i in range(4)]\n",
    "\n",
    "# タイトル\n",
    "[ax_list[i].set_title('level {}'.format(i+1)) for i in range(4)]\n",
    "\n",
    "plt.show()"
   ]
  }
 ],
 "metadata": {
  "kernelspec": {
   "display_name": "Python 3",
   "language": "python",
   "name": "python3"
  },
  "language_info": {
   "codemirror_mode": {
    "name": "ipython",
    "version": 3
   },
   "file_extension": ".py",
   "mimetype": "text/x-python",
   "name": "python",
   "nbconvert_exporter": "python",
   "pygments_lexer": "ipython3",
   "version": "3.6.1"
  }
 },
 "nbformat": 4,
 "nbformat_minor": 2
}
