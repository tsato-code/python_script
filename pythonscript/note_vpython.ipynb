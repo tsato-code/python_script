{
 "cells": [
  {
   "cell_type": "code",
   "execution_count": 26,
   "metadata": {},
   "outputs": [],
   "source": [
    "from vpython import *\n",
    "import numpy as np"
   ]
  },
  {
   "cell_type": "code",
   "execution_count": 27,
   "metadata": {},
   "outputs": [
    {
     "name": "stdout",
     "output_type": "stream",
     "text": [
      "3.158\n"
     ]
    }
   ],
   "source": [
    "N =3000\n",
    "np.random.seed(1)\n",
    "p = np.random.rand(N, 3)\n",
    "pi = np.sum(np.sqrt(p[:, 0]**2+p[:,1]**2+p[:,2]**2) <= 1)/N*6\n",
    "print(pi)"
   ]
  },
  {
   "cell_type": "code",
   "execution_count": 29,
   "metadata": {},
   "outputs": [
    {
     "data": {
      "text/html": [
       "<div id=\"glowscript\" class=\"glowscript\"></div>"
      ],
      "text/plain": [
       "<IPython.core.display.HTML object>"
      ]
     },
     "metadata": {},
     "output_type": "display_data"
    },
    {
     "data": {
      "application/javascript": [
       "if (typeof Jupyter !== \"undefined\") { window.__context = { glowscript_container: $(\"#glowscript\").removeAttr(\"id\")};}else{ element.textContent = ' ';}"
      ],
      "text/plain": [
       "<IPython.core.display.Javascript object>"
      ]
     },
     "metadata": {},
     "output_type": "display_data"
    }
   ],
   "source": [
    "inner = p[np.sqrt(p[:,0]**2+p[:,1]**2+p[:,2]**2) <= 1]\n",
    "# vpython 初期設定\n",
    "scene = canvas(width=800, height=600)\n",
    "vmin = -0.1\n",
    "length = 1.4\n",
    "scene.up = vector(0, 0, 1)\n",
    "scene.forward = vector(-1, -1, -1)\n",
    "scene.center = vector(0, 0, 0)\n",
    "scene.range = 0.9*length\n",
    "scene.background = color.white"
   ]
  },
  {
   "cell_type": "code",
   "execution_count": 31,
   "metadata": {},
   "outputs": [],
   "source": [
    "# 3D可視化\n",
    "# マウスホールで拡大縮小\n",
    "# shift+ドラッグで平行移動\n",
    "# ctrl+ドラッグで回転\n",
    "cb = color.black\n",
    "arrow(pos=vector(vmin, 0, 0), axis=vector(length, 0, 0), shaftwidth=0.002, headwidth=0.05, color=cb)\n",
    "arrow(pos=vector(0, vmin, 0), axis=vector(0, length, 0), shaftwidth=0.002, headwidth=0.05, color=cb)\n",
    "arrow(pos=vector(0, 0, vmin), axis=vector(0, 0, length), shaftwidth=0.002, headwidth=0.05, color=cb)\n",
    "balls = [sphere(pos=vector(*v), radius=0.01, color=color.black) for v in inner]"
   ]
  },
  {
   "cell_type": "code",
   "execution_count": null,
   "metadata": {},
   "outputs": [],
   "source": []
  }
 ],
 "metadata": {
  "kernelspec": {
   "display_name": "Python 3",
   "language": "python",
   "name": "python3"
  },
  "language_info": {
   "codemirror_mode": {
    "name": "ipython",
    "version": 3
   },
   "file_extension": ".py",
   "mimetype": "text/x-python",
   "name": "python",
   "nbconvert_exporter": "python",
   "pygments_lexer": "ipython3",
   "version": "3.6.7"
  }
 },
 "nbformat": 4,
 "nbformat_minor": 2
}
