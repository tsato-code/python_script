{
 "cells": [
  {
   "cell_type": "code",
   "execution_count": 1,
   "metadata": {},
   "outputs": [],
   "source": [
    "import warnings\n",
    "warnings.filterwarnings(\"ignore\", message=\"numpy.dtype size changed\")\n",
    "warnings.filterwarnings(\"ignore\", message=\"numpy.ufunc size changed\")\n",
    "import pandas as pd\n",
    "import numpy as np\n",
    "import matplotlib.pyplot as plt\n",
    "import itertools\n",
    "from sklearn.model_selection import KFold\n",
    "from MTS import *\n",
    "from orthogonal_array import *"
   ]
  },
  {
   "cell_type": "code",
   "execution_count": 2,
   "metadata": {},
   "outputs": [],
   "source": [
    "# ファイル読み込み\n",
    "IN_FILE = '../data/SkillCraft1_Dataset.csv'\n",
    "df = pd.read_csv(IN_FILE, header=0, index_col=None, sep=',')"
   ]
  },
  {
   "cell_type": "markdown",
   "metadata": {},
   "source": [
    "# 基礎分析"
   ]
  },
  {
   "cell_type": "code",
   "execution_count": 3,
   "metadata": {},
   "outputs": [
    {
     "data": {
      "text/plain": [
       "(3395, 20)"
      ]
     },
     "execution_count": 3,
     "metadata": {},
     "output_type": "execute_result"
    }
   ],
   "source": [
    "df.shape"
   ]
  },
  {
   "cell_type": "code",
   "execution_count": 4,
   "metadata": {},
   "outputs": [
    {
     "data": {
      "text/html": [
       "<div>\n",
       "<style scoped>\n",
       "    .dataframe tbody tr th:only-of-type {\n",
       "        vertical-align: middle;\n",
       "    }\n",
       "\n",
       "    .dataframe tbody tr th {\n",
       "        vertical-align: top;\n",
       "    }\n",
       "\n",
       "    .dataframe thead th {\n",
       "        text-align: right;\n",
       "    }\n",
       "</style>\n",
       "<table border=\"1\" class=\"dataframe\">\n",
       "  <thead>\n",
       "    <tr style=\"text-align: right;\">\n",
       "      <th></th>\n",
       "      <th>GameID</th>\n",
       "      <th>LeagueIndex</th>\n",
       "      <th>Age</th>\n",
       "      <th>HoursPerWeek</th>\n",
       "      <th>TotalHours</th>\n",
       "      <th>APM</th>\n",
       "      <th>SelectByHotkeys</th>\n",
       "      <th>AssignToHotkeys</th>\n",
       "      <th>UniqueHotkeys</th>\n",
       "      <th>MinimapAttacks</th>\n",
       "      <th>MinimapRightClicks</th>\n",
       "      <th>NumberOfPACs</th>\n",
       "      <th>GapBetweenPACs</th>\n",
       "      <th>ActionLatency</th>\n",
       "      <th>ActionsInPAC</th>\n",
       "      <th>TotalMapExplored</th>\n",
       "      <th>WorkersMade</th>\n",
       "      <th>UniqueUnitsMade</th>\n",
       "      <th>ComplexUnitsMade</th>\n",
       "      <th>ComplexAbilitiesUsed</th>\n",
       "    </tr>\n",
       "  </thead>\n",
       "  <tbody>\n",
       "    <tr>\n",
       "      <th>0</th>\n",
       "      <td>52</td>\n",
       "      <td>5</td>\n",
       "      <td>27</td>\n",
       "      <td>10</td>\n",
       "      <td>3000</td>\n",
       "      <td>143.7180</td>\n",
       "      <td>0.003515</td>\n",
       "      <td>0.000220</td>\n",
       "      <td>7</td>\n",
       "      <td>0.000110</td>\n",
       "      <td>0.000392</td>\n",
       "      <td>0.004849</td>\n",
       "      <td>32.6677</td>\n",
       "      <td>40.8673</td>\n",
       "      <td>4.7508</td>\n",
       "      <td>28</td>\n",
       "      <td>0.001397</td>\n",
       "      <td>6</td>\n",
       "      <td>0.0</td>\n",
       "      <td>0.000000</td>\n",
       "    </tr>\n",
       "    <tr>\n",
       "      <th>1</th>\n",
       "      <td>55</td>\n",
       "      <td>5</td>\n",
       "      <td>23</td>\n",
       "      <td>10</td>\n",
       "      <td>5000</td>\n",
       "      <td>129.2322</td>\n",
       "      <td>0.003304</td>\n",
       "      <td>0.000259</td>\n",
       "      <td>4</td>\n",
       "      <td>0.000294</td>\n",
       "      <td>0.000432</td>\n",
       "      <td>0.004307</td>\n",
       "      <td>32.9194</td>\n",
       "      <td>42.3454</td>\n",
       "      <td>4.8434</td>\n",
       "      <td>22</td>\n",
       "      <td>0.001194</td>\n",
       "      <td>5</td>\n",
       "      <td>0.0</td>\n",
       "      <td>0.000208</td>\n",
       "    </tr>\n",
       "    <tr>\n",
       "      <th>2</th>\n",
       "      <td>56</td>\n",
       "      <td>4</td>\n",
       "      <td>30</td>\n",
       "      <td>10</td>\n",
       "      <td>200</td>\n",
       "      <td>69.9612</td>\n",
       "      <td>0.001101</td>\n",
       "      <td>0.000336</td>\n",
       "      <td>4</td>\n",
       "      <td>0.000294</td>\n",
       "      <td>0.000461</td>\n",
       "      <td>0.002926</td>\n",
       "      <td>44.6475</td>\n",
       "      <td>75.3548</td>\n",
       "      <td>4.0430</td>\n",
       "      <td>22</td>\n",
       "      <td>0.000745</td>\n",
       "      <td>6</td>\n",
       "      <td>0.0</td>\n",
       "      <td>0.000189</td>\n",
       "    </tr>\n",
       "    <tr>\n",
       "      <th>3</th>\n",
       "      <td>57</td>\n",
       "      <td>3</td>\n",
       "      <td>19</td>\n",
       "      <td>20</td>\n",
       "      <td>400</td>\n",
       "      <td>107.6016</td>\n",
       "      <td>0.001034</td>\n",
       "      <td>0.000213</td>\n",
       "      <td>1</td>\n",
       "      <td>0.000053</td>\n",
       "      <td>0.000543</td>\n",
       "      <td>0.003783</td>\n",
       "      <td>29.2203</td>\n",
       "      <td>53.7352</td>\n",
       "      <td>4.9155</td>\n",
       "      <td>19</td>\n",
       "      <td>0.000426</td>\n",
       "      <td>7</td>\n",
       "      <td>0.0</td>\n",
       "      <td>0.000384</td>\n",
       "    </tr>\n",
       "    <tr>\n",
       "      <th>4</th>\n",
       "      <td>58</td>\n",
       "      <td>3</td>\n",
       "      <td>32</td>\n",
       "      <td>10</td>\n",
       "      <td>500</td>\n",
       "      <td>122.8908</td>\n",
       "      <td>0.001136</td>\n",
       "      <td>0.000327</td>\n",
       "      <td>2</td>\n",
       "      <td>0.000000</td>\n",
       "      <td>0.001329</td>\n",
       "      <td>0.002368</td>\n",
       "      <td>22.6885</td>\n",
       "      <td>62.0813</td>\n",
       "      <td>9.3740</td>\n",
       "      <td>15</td>\n",
       "      <td>0.001174</td>\n",
       "      <td>4</td>\n",
       "      <td>0.0</td>\n",
       "      <td>0.000019</td>\n",
       "    </tr>\n",
       "  </tbody>\n",
       "</table>\n",
       "</div>"
      ],
      "text/plain": [
       "   GameID  LeagueIndex Age HoursPerWeek TotalHours       APM  SelectByHotkeys  \\\n",
       "0      52            5  27           10       3000  143.7180         0.003515   \n",
       "1      55            5  23           10       5000  129.2322         0.003304   \n",
       "2      56            4  30           10        200   69.9612         0.001101   \n",
       "3      57            3  19           20        400  107.6016         0.001034   \n",
       "4      58            3  32           10        500  122.8908         0.001136   \n",
       "\n",
       "   AssignToHotkeys  UniqueHotkeys  MinimapAttacks  MinimapRightClicks  \\\n",
       "0         0.000220              7        0.000110            0.000392   \n",
       "1         0.000259              4        0.000294            0.000432   \n",
       "2         0.000336              4        0.000294            0.000461   \n",
       "3         0.000213              1        0.000053            0.000543   \n",
       "4         0.000327              2        0.000000            0.001329   \n",
       "\n",
       "   NumberOfPACs  GapBetweenPACs  ActionLatency  ActionsInPAC  \\\n",
       "0      0.004849         32.6677        40.8673        4.7508   \n",
       "1      0.004307         32.9194        42.3454        4.8434   \n",
       "2      0.002926         44.6475        75.3548        4.0430   \n",
       "3      0.003783         29.2203        53.7352        4.9155   \n",
       "4      0.002368         22.6885        62.0813        9.3740   \n",
       "\n",
       "   TotalMapExplored  WorkersMade  UniqueUnitsMade  ComplexUnitsMade  \\\n",
       "0                28     0.001397                6               0.0   \n",
       "1                22     0.001194                5               0.0   \n",
       "2                22     0.000745                6               0.0   \n",
       "3                19     0.000426                7               0.0   \n",
       "4                15     0.001174                4               0.0   \n",
       "\n",
       "   ComplexAbilitiesUsed  \n",
       "0              0.000000  \n",
       "1              0.000208  \n",
       "2              0.000189  \n",
       "3              0.000384  \n",
       "4              0.000019  "
      ]
     },
     "execution_count": 4,
     "metadata": {},
     "output_type": "execute_result"
    }
   ],
   "source": [
    "df.head()"
   ]
  },
  {
   "cell_type": "code",
   "execution_count": 5,
   "metadata": {},
   "outputs": [
    {
     "data": {
      "text/html": [
       "<div>\n",
       "<style scoped>\n",
       "    .dataframe tbody tr th:only-of-type {\n",
       "        vertical-align: middle;\n",
       "    }\n",
       "\n",
       "    .dataframe tbody tr th {\n",
       "        vertical-align: top;\n",
       "    }\n",
       "\n",
       "    .dataframe thead th {\n",
       "        text-align: right;\n",
       "    }\n",
       "</style>\n",
       "<table border=\"1\" class=\"dataframe\">\n",
       "  <thead>\n",
       "    <tr style=\"text-align: right;\">\n",
       "      <th></th>\n",
       "      <th>GameID</th>\n",
       "      <th>LeagueIndex</th>\n",
       "      <th>APM</th>\n",
       "      <th>SelectByHotkeys</th>\n",
       "      <th>AssignToHotkeys</th>\n",
       "      <th>UniqueHotkeys</th>\n",
       "      <th>MinimapAttacks</th>\n",
       "      <th>MinimapRightClicks</th>\n",
       "      <th>NumberOfPACs</th>\n",
       "      <th>GapBetweenPACs</th>\n",
       "      <th>ActionLatency</th>\n",
       "      <th>ActionsInPAC</th>\n",
       "      <th>TotalMapExplored</th>\n",
       "      <th>WorkersMade</th>\n",
       "      <th>UniqueUnitsMade</th>\n",
       "      <th>ComplexUnitsMade</th>\n",
       "      <th>ComplexAbilitiesUsed</th>\n",
       "    </tr>\n",
       "  </thead>\n",
       "  <tbody>\n",
       "    <tr>\n",
       "      <th>count</th>\n",
       "      <td>3395.000000</td>\n",
       "      <td>3395.000000</td>\n",
       "      <td>3395.000000</td>\n",
       "      <td>3395.000000</td>\n",
       "      <td>3395.000000</td>\n",
       "      <td>3395.000000</td>\n",
       "      <td>3395.000000</td>\n",
       "      <td>3395.000000</td>\n",
       "      <td>3395.000000</td>\n",
       "      <td>3395.000000</td>\n",
       "      <td>3395.000000</td>\n",
       "      <td>3395.000000</td>\n",
       "      <td>3395.000000</td>\n",
       "      <td>3395.000000</td>\n",
       "      <td>3395.000000</td>\n",
       "      <td>3395.000000</td>\n",
       "      <td>3395.000000</td>\n",
       "    </tr>\n",
       "    <tr>\n",
       "      <th>mean</th>\n",
       "      <td>4805.012371</td>\n",
       "      <td>4.184094</td>\n",
       "      <td>117.046947</td>\n",
       "      <td>0.004299</td>\n",
       "      <td>0.000374</td>\n",
       "      <td>4.364654</td>\n",
       "      <td>0.000098</td>\n",
       "      <td>0.000387</td>\n",
       "      <td>0.003463</td>\n",
       "      <td>40.361562</td>\n",
       "      <td>63.739403</td>\n",
       "      <td>5.272988</td>\n",
       "      <td>22.131664</td>\n",
       "      <td>0.001032</td>\n",
       "      <td>6.534021</td>\n",
       "      <td>0.000059</td>\n",
       "      <td>0.000142</td>\n",
       "    </tr>\n",
       "    <tr>\n",
       "      <th>std</th>\n",
       "      <td>2719.944851</td>\n",
       "      <td>1.517327</td>\n",
       "      <td>51.945291</td>\n",
       "      <td>0.005284</td>\n",
       "      <td>0.000225</td>\n",
       "      <td>2.360333</td>\n",
       "      <td>0.000166</td>\n",
       "      <td>0.000377</td>\n",
       "      <td>0.000992</td>\n",
       "      <td>17.153570</td>\n",
       "      <td>19.238869</td>\n",
       "      <td>1.494835</td>\n",
       "      <td>7.431719</td>\n",
       "      <td>0.000519</td>\n",
       "      <td>1.857697</td>\n",
       "      <td>0.000111</td>\n",
       "      <td>0.000265</td>\n",
       "    </tr>\n",
       "    <tr>\n",
       "      <th>min</th>\n",
       "      <td>52.000000</td>\n",
       "      <td>1.000000</td>\n",
       "      <td>22.059600</td>\n",
       "      <td>0.000000</td>\n",
       "      <td>0.000000</td>\n",
       "      <td>0.000000</td>\n",
       "      <td>0.000000</td>\n",
       "      <td>0.000000</td>\n",
       "      <td>0.000679</td>\n",
       "      <td>6.666700</td>\n",
       "      <td>24.093600</td>\n",
       "      <td>2.038900</td>\n",
       "      <td>5.000000</td>\n",
       "      <td>0.000077</td>\n",
       "      <td>2.000000</td>\n",
       "      <td>0.000000</td>\n",
       "      <td>0.000000</td>\n",
       "    </tr>\n",
       "    <tr>\n",
       "      <th>25%</th>\n",
       "      <td>2464.500000</td>\n",
       "      <td>3.000000</td>\n",
       "      <td>79.900200</td>\n",
       "      <td>0.001258</td>\n",
       "      <td>0.000204</td>\n",
       "      <td>3.000000</td>\n",
       "      <td>0.000000</td>\n",
       "      <td>0.000140</td>\n",
       "      <td>0.002754</td>\n",
       "      <td>28.957750</td>\n",
       "      <td>50.446600</td>\n",
       "      <td>4.272850</td>\n",
       "      <td>17.000000</td>\n",
       "      <td>0.000683</td>\n",
       "      <td>5.000000</td>\n",
       "      <td>0.000000</td>\n",
       "      <td>0.000000</td>\n",
       "    </tr>\n",
       "    <tr>\n",
       "      <th>50%</th>\n",
       "      <td>4874.000000</td>\n",
       "      <td>4.000000</td>\n",
       "      <td>108.010200</td>\n",
       "      <td>0.002500</td>\n",
       "      <td>0.000353</td>\n",
       "      <td>4.000000</td>\n",
       "      <td>0.000040</td>\n",
       "      <td>0.000281</td>\n",
       "      <td>0.003395</td>\n",
       "      <td>36.723500</td>\n",
       "      <td>60.931800</td>\n",
       "      <td>5.095500</td>\n",
       "      <td>22.000000</td>\n",
       "      <td>0.000905</td>\n",
       "      <td>6.000000</td>\n",
       "      <td>0.000000</td>\n",
       "      <td>0.000020</td>\n",
       "    </tr>\n",
       "    <tr>\n",
       "      <th>75%</th>\n",
       "      <td>7108.500000</td>\n",
       "      <td>5.000000</td>\n",
       "      <td>142.790400</td>\n",
       "      <td>0.005133</td>\n",
       "      <td>0.000499</td>\n",
       "      <td>6.000000</td>\n",
       "      <td>0.000119</td>\n",
       "      <td>0.000514</td>\n",
       "      <td>0.004027</td>\n",
       "      <td>48.290500</td>\n",
       "      <td>73.681300</td>\n",
       "      <td>6.033600</td>\n",
       "      <td>27.000000</td>\n",
       "      <td>0.001259</td>\n",
       "      <td>8.000000</td>\n",
       "      <td>0.000086</td>\n",
       "      <td>0.000181</td>\n",
       "    </tr>\n",
       "    <tr>\n",
       "      <th>max</th>\n",
       "      <td>10095.000000</td>\n",
       "      <td>8.000000</td>\n",
       "      <td>389.831400</td>\n",
       "      <td>0.043088</td>\n",
       "      <td>0.001752</td>\n",
       "      <td>10.000000</td>\n",
       "      <td>0.003019</td>\n",
       "      <td>0.004041</td>\n",
       "      <td>0.007971</td>\n",
       "      <td>237.142900</td>\n",
       "      <td>176.372100</td>\n",
       "      <td>18.558100</td>\n",
       "      <td>58.000000</td>\n",
       "      <td>0.005149</td>\n",
       "      <td>13.000000</td>\n",
       "      <td>0.000902</td>\n",
       "      <td>0.003084</td>\n",
       "    </tr>\n",
       "  </tbody>\n",
       "</table>\n",
       "</div>"
      ],
      "text/plain": [
       "             GameID  LeagueIndex          APM  SelectByHotkeys  \\\n",
       "count   3395.000000  3395.000000  3395.000000      3395.000000   \n",
       "mean    4805.012371     4.184094   117.046947         0.004299   \n",
       "std     2719.944851     1.517327    51.945291         0.005284   \n",
       "min       52.000000     1.000000    22.059600         0.000000   \n",
       "25%     2464.500000     3.000000    79.900200         0.001258   \n",
       "50%     4874.000000     4.000000   108.010200         0.002500   \n",
       "75%     7108.500000     5.000000   142.790400         0.005133   \n",
       "max    10095.000000     8.000000   389.831400         0.043088   \n",
       "\n",
       "       AssignToHotkeys  UniqueHotkeys  MinimapAttacks  MinimapRightClicks  \\\n",
       "count      3395.000000    3395.000000     3395.000000         3395.000000   \n",
       "mean          0.000374       4.364654        0.000098            0.000387   \n",
       "std           0.000225       2.360333        0.000166            0.000377   \n",
       "min           0.000000       0.000000        0.000000            0.000000   \n",
       "25%           0.000204       3.000000        0.000000            0.000140   \n",
       "50%           0.000353       4.000000        0.000040            0.000281   \n",
       "75%           0.000499       6.000000        0.000119            0.000514   \n",
       "max           0.001752      10.000000        0.003019            0.004041   \n",
       "\n",
       "       NumberOfPACs  GapBetweenPACs  ActionLatency  ActionsInPAC  \\\n",
       "count   3395.000000     3395.000000    3395.000000   3395.000000   \n",
       "mean       0.003463       40.361562      63.739403      5.272988   \n",
       "std        0.000992       17.153570      19.238869      1.494835   \n",
       "min        0.000679        6.666700      24.093600      2.038900   \n",
       "25%        0.002754       28.957750      50.446600      4.272850   \n",
       "50%        0.003395       36.723500      60.931800      5.095500   \n",
       "75%        0.004027       48.290500      73.681300      6.033600   \n",
       "max        0.007971      237.142900     176.372100     18.558100   \n",
       "\n",
       "       TotalMapExplored  WorkersMade  UniqueUnitsMade  ComplexUnitsMade  \\\n",
       "count       3395.000000  3395.000000      3395.000000       3395.000000   \n",
       "mean          22.131664     0.001032         6.534021          0.000059   \n",
       "std            7.431719     0.000519         1.857697          0.000111   \n",
       "min            5.000000     0.000077         2.000000          0.000000   \n",
       "25%           17.000000     0.000683         5.000000          0.000000   \n",
       "50%           22.000000     0.000905         6.000000          0.000000   \n",
       "75%           27.000000     0.001259         8.000000          0.000086   \n",
       "max           58.000000     0.005149        13.000000          0.000902   \n",
       "\n",
       "       ComplexAbilitiesUsed  \n",
       "count           3395.000000  \n",
       "mean               0.000142  \n",
       "std                0.000265  \n",
       "min                0.000000  \n",
       "25%                0.000000  \n",
       "50%                0.000020  \n",
       "75%                0.000181  \n",
       "max                0.003084  "
      ]
     },
     "execution_count": 5,
     "metadata": {},
     "output_type": "execute_result"
    }
   ],
   "source": [
    "df.describe()"
   ]
  },
  {
   "cell_type": "code",
   "execution_count": 6,
   "metadata": {
    "scrolled": false
   },
   "outputs": [
    {
     "data": {
      "text/plain": [
       "GameID                   0\n",
       "LeagueIndex              0\n",
       "Age                     55\n",
       "HoursPerWeek            56\n",
       "TotalHours              57\n",
       "APM                      0\n",
       "SelectByHotkeys          0\n",
       "AssignToHotkeys          0\n",
       "UniqueHotkeys            0\n",
       "MinimapAttacks           0\n",
       "MinimapRightClicks       0\n",
       "NumberOfPACs             0\n",
       "GapBetweenPACs           0\n",
       "ActionLatency            0\n",
       "ActionsInPAC             0\n",
       "TotalMapExplored         0\n",
       "WorkersMade              0\n",
       "UniqueUnitsMade          0\n",
       "ComplexUnitsMade         0\n",
       "ComplexAbilitiesUsed     0\n",
       "dtype: int64"
      ]
     },
     "execution_count": 6,
     "metadata": {},
     "output_type": "execute_result"
    }
   ],
   "source": [
    "(df=='?').sum(axis=0)"
   ]
  },
  {
   "cell_type": "code",
   "execution_count": 7,
   "metadata": {
    "scrolled": true
   },
   "outputs": [],
   "source": [
    "# '?'を含む行を削除\n",
    "df = df[(df=='?').sum(axis=1)==0]"
   ]
  },
  {
   "cell_type": "code",
   "execution_count": 8,
   "metadata": {},
   "outputs": [
    {
     "data": {
      "text/plain": [
       "4    811\n",
       "5    804\n",
       "6    621\n",
       "3    553\n",
       "2    347\n",
       "1    167\n",
       "7     35\n",
       "Name: LeagueIndex, dtype: int64"
      ]
     },
     "execution_count": 8,
     "metadata": {},
     "output_type": "execute_result"
    }
   ],
   "source": [
    "# クラスごとのサンプル数\n",
    "df.LeagueIndex.value_counts()"
   ]
  },
  {
   "cell_type": "code",
   "execution_count": 9,
   "metadata": {},
   "outputs": [],
   "source": [
    "# シャッフルとインデックス更新\n",
    "df = df.sample(frac=1, random_state=0) # 行シャッフル\n",
    "df = df.reset_index(drop=True) # インデックスの更新"
   ]
  },
  {
   "cell_type": "code",
   "execution_count": 10,
   "metadata": {},
   "outputs": [
    {
     "name": "stdout",
     "output_type": "stream",
     "text": [
      "(3338, 18)\n"
     ]
    }
   ],
   "source": [
    "# データセットの作成\n",
    "target_col = 'LeagueIndex'\n",
    "target = 7\n",
    "del_col = [target_col, 'GameID']\n",
    "X = df.drop(del_col, axis=1)\n",
    "y = (df[target_col]==target).astype(np.int32)\n",
    "print(X.shape)"
   ]
  },
  {
   "cell_type": "markdown",
   "metadata": {},
   "source": [
    "# 異常検出（ホールドアウト法による評価）"
   ]
  },
  {
   "cell_type": "code",
   "execution_count": 11,
   "metadata": {},
   "outputs": [],
   "source": [
    "# ホールドアウト法による精度評価\n",
    "X_train, X_test, y_train, y_test = train_test_split(\n",
    "    X, y, test_size=0.33, random_state=47)"
   ]
  },
  {
   "cell_type": "code",
   "execution_count": 12,
   "metadata": {},
   "outputs": [
    {
     "name": "stdout",
     "output_type": "stream",
     "text": [
      "[-0.16538425  0.68042977 -0.63886082  0.33270743  0.15920755  0.36333522\n",
      " -0.25959958  0.6416313  -0.0337364   0.72364117 -0.47404517 -0.03159916\n",
      "  0.05898177 -0.10132967  0.37801642 -0.08829773  0.30914577 -0.0114109 ]\n"
     ]
    }
   ],
   "source": [
    "# 直交表の利用\n",
    "oa = np.reshape(L32, (32, -1)) # 直交表整形\n",
    "del_cols = range(X.shape[1], oa.shape[1])\n",
    "oa = np.delete(oa, del_cols, axis=1) # 不要列を削除\n",
    "sn_ratios = orthogonal_array_test(oa, X_train, y_train)\n",
    "sn_averages_pos, sn_averages_neg = orthogonal_array_sign(oa, sn_ratios)\n",
    "print(sn_averages_pos-sn_averages_neg) # 項目ごとのSN比平均差、プラスなら異常検知に関して有意な項目"
   ]
  },
  {
   "cell_type": "code",
   "execution_count": 13,
   "metadata": {},
   "outputs": [
    {
     "name": "stdout",
     "output_type": "stream",
     "text": [
      "1.3940976092535917 0.8571428571428571 0.8170955882352942\n"
     ]
    }
   ],
   "source": [
    "# 項目選択の結果をもとに異常検知\n",
    "sign_cols = np.where(sn_averages_pos-sn_averages_neg>=0, 1, 0) # 直交表のテストをもとに有用な変数を選択\n",
    "arr_cols = list(itertools.compress(X_train.columns, sign_cols))\n",
    "X_train_ext = X_train[arr_cols]\n",
    "X_test_ext = X_test[arr_cols]\n",
    "\n",
    "# MT法による異常度計算\n",
    "mts = MTS()\n",
    "mts.fit(X_train_ext[y_train==0])\n",
    "anomaly_score = mts.predict(X_test_ext)\n",
    "(break_even_point, score), (coverage, detection) = mts.break_even_point(anomaly_score, y_test)\n",
    "anomaly_score_abnormal = anomaly_score[y_test==1]"
   ]
  },
  {
   "cell_type": "code",
   "execution_count": 14,
   "metadata": {},
   "outputs": [
    {
     "name": "stdout",
     "output_type": "stream",
     "text": [
      "1.1567418357472288 0.7857142857142857 0.7729779411764706\n"
     ]
    }
   ],
   "source": [
    "# 項目選択せずに異常検知\n",
    "mts = MTS()\n",
    "mts.fit(X_train[y_train==0])\n",
    "anomaly_score = mts.predict(X_test)\n",
    "(break_even_point, score), (coverage, detection) = mts.break_even_point(anomaly_score, y_test)\n",
    "anomaly_score_abnormal = anomaly_score[y_test==1]"
   ]
  },
  {
   "cell_type": "markdown",
   "metadata": {},
   "source": [
    "# 異常検出（5分割交差検証による評価）"
   ]
  },
  {
   "cell_type": "code",
   "execution_count": 15,
   "metadata": {},
   "outputs": [
    {
     "name": "stdout",
     "output_type": "stream",
     "text": [
      "1.0276689526725056 1.0 0.724812030075188\n",
      "1.1821281595983038 0.875 0.7818181818181819\n",
      "1.2520418358886756 0.8571428571428571 0.8562783661119516\n",
      "1.2391851832485645 0.9 0.806697108066971\n",
      "0.878775863271093 0.7142857142857143 0.5787878787878787\n",
      "average: 0.8692857142857143\n"
     ]
    }
   ],
   "source": [
    "# 項目選択のないMT法（単なるMahalanobis距離）交差確認\n",
    "scores = []\n",
    "kf = KFold(n_splits=5, random_state=0, shuffle=True)\n",
    "for i, (train_index, test_index) in enumerate(kf.split(X)):\n",
    "    # print(\"TRAIN:\", train_index, \"TEST:\", test_index)\n",
    "    X_train, X_test = X.iloc[train_index], X.iloc[test_index]\n",
    "    y_train, y_test = y.iloc[train_index], y.iloc[test_index]\n",
    "    \n",
    "    # 項目選択せずに異常検知\n",
    "    # →平均0.5867\n",
    "    mts = MTS()\n",
    "    mts.fit(X_train[y_train==0])\n",
    "    anomaly_score = mts.predict(X_test)\n",
    "    (break_even_point, score), (coverage, detection) = mts.break_even_point(anomaly_score, y_test)\n",
    "    anomaly_score_abnormal = anomaly_score[y_test==1]\n",
    "    scores.append(score)\n",
    "print('average: {}'.format(sum(scores)/len(scores)))"
   ]
  },
  {
   "cell_type": "code",
   "execution_count": 16,
   "metadata": {},
   "outputs": [
    {
     "name": "stdout",
     "output_type": "stream",
     "text": [
      "1.0879950697690004 1.0 0.7609022556390977\n",
      "1.6324988353656322 0.875 0.8575757575757575\n",
      "1.7509597252918705 1.0 0.8956127080181543\n",
      "2.0141861475619356 0.9 0.8995433789954338\n",
      "1.1226705703260742 0.8571428571428571 0.7212121212121212\n",
      "average: 0.9264285714285714\n"
     ]
    }
   ],
   "source": [
    "# MT法で交差確認\n",
    "scores = []\n",
    "kf = KFold(n_splits=5, random_state=0, shuffle=True)\n",
    "for i, (train_index, test_index) in enumerate(kf.split(X)):\n",
    "    # print(\"TRAIN:\", train_index, \"TEST:\", test_index)\n",
    "    X_train, X_test = X.iloc[train_index], X.iloc[test_index]\n",
    "    y_train, y_test = y.iloc[train_index], y.iloc[test_index]\n",
    "    \n",
    "    # 直交表の利用\n",
    "    oa = np.reshape(L32, (32, -1)) # 直交表整形\n",
    "    del_cols = range(X.shape[1], oa.shape[1])\n",
    "    oa = np.delete(oa, del_cols, axis=1) # 不要列を削除\n",
    "    sn_ratios = orthogonal_array_test(oa, X_train, y_train)\n",
    "    sn_averages_pos, sn_averages_neg = orthogonal_array_sign(oa, sn_ratios)\n",
    "    # print(sn_averages_pos-sn_averages_neg) # 項目ごとのSN比平均差、プラスなら異常検知に関して有意な項目\n",
    "    \n",
    "    # 項目選択の結果をもとに異常検知\n",
    "    sign_cols = np.where(sn_averages_pos-sn_averages_neg>=0, 1, 0) # 直交表のテストをもとに有用な変数を選択\n",
    "    arr_cols = list(itertools.compress(X_train.columns, sign_cols))\n",
    "    X_train_ext = X_train[arr_cols]\n",
    "    X_test_ext = X_test[arr_cols]\n",
    "\n",
    "    # MT法による異常度計算\n",
    "    # →平均0.6751\n",
    "    mts = MTS()\n",
    "    mts.fit(X_train_ext[y_train==0])\n",
    "    anomaly_score = mts.predict(X_test_ext)\n",
    "    (break_even_point, score), (coverage, detection) = mts.break_even_point(anomaly_score, y_test)\n",
    "    anomaly_score_abnormal = anomaly_score[y_test==1]\n",
    "    scores.append(score)\n",
    "print('average: {}'.format(sum(scores)/len(scores)))"
   ]
  },
  {
   "cell_type": "markdown",
   "metadata": {},
   "source": [
    "# すべてのサンプルを使って項目選択"
   ]
  },
  {
   "cell_type": "code",
   "execution_count": 17,
   "metadata": {},
   "outputs": [
    {
     "name": "stdout",
     "output_type": "stream",
     "text": [
      "[-0.22419317  0.87383291 -0.65338249  0.34039767  0.21268755  0.51638279\n",
      " -0.26591795  0.9173867  -0.07416662  0.7581117  -0.24484961 -0.0862661\n",
      " -0.01262095 -0.21830204  0.14843757 -0.15073762  0.19564539  0.05363951]\n",
      "['HoursPerWeek', 'APM', 'SelectByHotkeys', 'AssignToHotkeys', 'MinimapAttacks', 'NumberOfPACs', 'WorkersMade', 'ComplexUnitsMade', 'ComplexAbilitiesUsed']\n"
     ]
    }
   ],
   "source": [
    "# 直交表の利用\n",
    "oa = np.reshape(L32, (32, -1)) # 直交表整形\n",
    "del_cols = range(X.shape[1], oa.shape[1])\n",
    "oa = np.delete(oa, del_cols, axis=1) # 不要列を削除\n",
    "sn_ratios = orthogonal_array_test(oa, X, y)\n",
    "sn_averages_pos, sn_averages_neg = orthogonal_array_sign(oa, sn_ratios)\n",
    "print(sn_averages_pos-sn_averages_neg) # 項目ごとのSN比平均差、プラスなら異常検知に関して有意な項目\n",
    "\n",
    "# 項目選択の結果を出力\n",
    "sign_cols = np.where(sn_averages_pos-sn_averages_neg>=0, 1, 0) # 直交表のテストをもとに有用な変数を選択\n",
    "arr_cols = list(itertools.compress(X.columns, sign_cols))\n",
    "print(arr_cols)"
   ]
  }
 ],
 "metadata": {
  "kernelspec": {
   "display_name": "Python 3",
   "language": "python",
   "name": "python3"
  },
  "language_info": {
   "codemirror_mode": {
    "name": "ipython",
    "version": 3
   },
   "file_extension": ".py",
   "mimetype": "text/x-python",
   "name": "python",
   "nbconvert_exporter": "python",
   "pygments_lexer": "ipython3",
   "version": "3.6.4"
  }
 },
 "nbformat": 4,
 "nbformat_minor": 2
}
