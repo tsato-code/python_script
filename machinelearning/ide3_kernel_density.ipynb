{
 "cells": [
  {
   "cell_type": "code",
   "execution_count": 12,
   "metadata": {},
   "outputs": [],
   "source": [
    "from matplotlib.colors import LinearSegmentedColormap\n",
    "from sklearn import datasets\n",
    "import pandas as pd\n",
    "import matplotlib.pyplot as plt\n",
    "import numpy as np"
   ]
  },
  {
   "cell_type": "code",
   "execution_count": 13,
   "metadata": {},
   "outputs": [],
   "source": [
    "def generate_cmap(colors):\n",
    "    values = range(len(colors))\n",
    "    vmax = np.ceil(np.max(values))\n",
    "    color_list = []\n",
    "    for v, c in zip(values, colors):\n",
    "        color_list.append(( v/ vmax, c))\n",
    "    return LinearSegmentedColormap.from_list('custom_cmap', color_list)"
   ]
  },
  {
   "cell_type": "code",
   "execution_count": 20,
   "metadata": {},
   "outputs": [],
   "source": [
    "# linnerud dataset (multivariate regression)\n",
    "linnerud = datasets.load_linnerud()"
   ]
  },
  {
   "cell_type": "code",
   "execution_count": 21,
   "metadata": {},
   "outputs": [
    {
     "data": {
      "text/html": [
       "<style  type=\"text/css\" >\n",
       "    #T_db74ad5e_6a47_11e8_a531_309c238ad364row0_col0 {\n",
       "            background-color:  #ee82ee;\n",
       "        }    #T_db74ad5e_6a47_11e8_a531_309c238ad364row0_col1 {\n",
       "            background-color:  #fef5fe;\n",
       "        }    #T_db74ad5e_6a47_11e8_a531_309c238ad364row0_col2 {\n",
       "            background-color:  #ffffff;\n",
       "        }    #T_db74ad5e_6a47_11e8_a531_309c238ad364row1_col0 {\n",
       "            background-color:  #f8cdf8;\n",
       "        }    #T_db74ad5e_6a47_11e8_a531_309c238ad364row1_col1 {\n",
       "            background-color:  #ee82ee;\n",
       "        }    #T_db74ad5e_6a47_11e8_a531_309c238ad364row1_col2 {\n",
       "            background-color:  #f9d4f9;\n",
       "        }    #T_db74ad5e_6a47_11e8_a531_309c238ad364row2_col0 {\n",
       "            background-color:  #ffffff;\n",
       "        }    #T_db74ad5e_6a47_11e8_a531_309c238ad364row2_col1 {\n",
       "            background-color:  #ffffff;\n",
       "        }    #T_db74ad5e_6a47_11e8_a531_309c238ad364row2_col2 {\n",
       "            background-color:  #ee82ee;\n",
       "        }</style>  \n",
       "<table id=\"T_db74ad5e_6a47_11e8_a531_309c238ad364\" > \n",
       "<thead>    <tr> \n",
       "        <th class=\"blank level0\" ></th> \n",
       "        <th class=\"col_heading level0 col0\" >0</th> \n",
       "        <th class=\"col_heading level0 col1\" >1</th> \n",
       "        <th class=\"col_heading level0 col2\" >2</th> \n",
       "    </tr></thead> \n",
       "<tbody>    <tr> \n",
       "        <th id=\"T_db74ad5e_6a47_11e8_a531_309c238ad364level0_row0\" class=\"row_heading level0 row0\" >0</th> \n",
       "        <td id=\"T_db74ad5e_6a47_11e8_a531_309c238ad364row0_col0\" class=\"data row0 col0\" >1</td> \n",
       "        <td id=\"T_db74ad5e_6a47_11e8_a531_309c238ad364row0_col1\" class=\"data row0 col1\" >0.695727</td> \n",
       "        <td id=\"T_db74ad5e_6a47_11e8_a531_309c238ad364row0_col2\" class=\"data row0 col2\" >0.49576</td> \n",
       "    </tr>    <tr> \n",
       "        <th id=\"T_db74ad5e_6a47_11e8_a531_309c238ad364level0_row1\" class=\"row_heading level0 row1\" >1</th> \n",
       "        <td id=\"T_db74ad5e_6a47_11e8_a531_309c238ad364row1_col0\" class=\"data row1 col0\" >0.695727</td> \n",
       "        <td id=\"T_db74ad5e_6a47_11e8_a531_309c238ad364row1_col1\" class=\"data row1 col1\" >1</td> \n",
       "        <td id=\"T_db74ad5e_6a47_11e8_a531_309c238ad364row1_col2\" class=\"data row1 col2\" >0.669206</td> \n",
       "    </tr>    <tr> \n",
       "        <th id=\"T_db74ad5e_6a47_11e8_a531_309c238ad364level0_row2\" class=\"row_heading level0 row2\" >2</th> \n",
       "        <td id=\"T_db74ad5e_6a47_11e8_a531_309c238ad364row2_col0\" class=\"data row2 col0\" >0.49576</td> \n",
       "        <td id=\"T_db74ad5e_6a47_11e8_a531_309c238ad364row2_col1\" class=\"data row2 col1\" >0.669206</td> \n",
       "        <td id=\"T_db74ad5e_6a47_11e8_a531_309c238ad364row2_col2\" class=\"data row2 col2\" >1</td> \n",
       "    </tr></tbody> \n",
       "</table> "
      ],
      "text/plain": [
       "<pandas.io.formats.style.Styler at 0x2498132cd68>"
      ]
     },
     "execution_count": 21,
     "metadata": {},
     "output_type": "execute_result"
    }
   ],
   "source": [
    "# 相関行列のヒートマップ\n",
    "a = pd.DataFrame(np.corrcoef(linnerud.data.T))\n",
    "cm = generate_cmap(['white', 'violet'])\n",
    "a.style.background_gradient(cmap=cm, axis=0)"
   ]
  },
  {
   "cell_type": "code",
   "execution_count": 18,
   "metadata": {},
   "outputs": [
    {
     "data": {
      "text/plain": [
       "array([[  5.,   2.,  12.,  12.,  13.,   4.,   8.,   6.,  15.,  17.,  17.,\n",
       "         13.,  14.,   1.,   6.,  12.,   4.,  11.,  15.,   2.],\n",
       "       [162., 110., 101., 105., 155., 101., 101., 125., 200., 251., 120.,\n",
       "        210., 215.,  50.,  70., 210.,  60., 230., 225., 110.],\n",
       "       [ 60.,  60., 101.,  37.,  58.,  42.,  38.,  40.,  40., 250.,  38.,\n",
       "        115., 105.,  50.,  31., 120.,  25.,  80.,  73.,  43.]])"
      ]
     },
     "execution_count": 18,
     "metadata": {},
     "output_type": "execute_result"
    }
   ],
   "source": []
  },
  {
   "cell_type": "code",
   "execution_count": null,
   "metadata": {},
   "outputs": [],
   "source": []
  }
 ],
 "metadata": {
  "kernelspec": {
   "display_name": "Python 3",
   "language": "python",
   "name": "python3"
  },
  "language_info": {
   "codemirror_mode": {
    "name": "ipython",
    "version": 3
   },
   "file_extension": ".py",
   "mimetype": "text/x-python",
   "name": "python",
   "nbconvert_exporter": "python",
   "pygments_lexer": "ipython3",
   "version": "3.6.4"
  }
 },
 "nbformat": 4,
 "nbformat_minor": 2
}
